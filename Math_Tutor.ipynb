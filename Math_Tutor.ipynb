{
 "cells": [
  {
   "cell_type": "code",
   "execution_count": 1,
   "metadata": {},
   "outputs": [
    {
     "data": {
      "text/plain": [
       "True"
      ]
     },
     "execution_count": 1,
     "metadata": {},
     "output_type": "execute_result"
    }
   ],
   "source": [
    "from dotenv import load_dotenv\n",
    "\n",
    "load_dotenv()"
   ]
  },
  {
   "cell_type": "markdown",
   "metadata": {},
   "source": [
    "##### Helpers for pretty printing"
   ]
  },
  {
   "cell_type": "code",
   "execution_count": 15,
   "metadata": {},
   "outputs": [],
   "source": [
    "import json\n",
    "\n",
    "def obj_to_dict(obj):\n",
    "    if isinstance(obj, list):\n",
    "        return [obj_to_dict(e) for e in obj]\n",
    "    elif hasattr(obj, \"__dict__\"):\n",
    "        data = { \n",
    "            key: obj_to_dict(value) \n",
    "            for key, value in obj.__dict__.items() \n",
    "            if not key.startswith('_') and not callable(value)\n",
    "        }\n",
    "        return data\n",
    "    else:\n",
    "        return obj\n",
    "\n",
    "\n",
    "def print_object(obj):\n",
    "    print(json.dumps(obj_to_dict(obj), indent=4))\n",
    "\n",
    "# Usage\n",
    "# print(json.dumps(obj_to_dict(your_object), indent=4))\n"
   ]
  },
  {
   "cell_type": "markdown",
   "metadata": {},
   "source": [
    "### Step 1: Setup the Tutor"
   ]
  },
  {
   "cell_type": "code",
   "execution_count": 2,
   "metadata": {},
   "outputs": [],
   "source": [
    "from openai import OpenAI\n",
    "\n",
    "client = OpenAI()\n",
    "\n",
    "assistant = client.beta.assistants.create(\n",
    "    name=\"Math Tutor\",\n",
    "    instructions=\"You are a personal math tutor. Write and run code to answer math questions.\",\n",
    "    tools=[{\"type\": \"code_interpreter\"}],\n",
    "    model=\"gpt-4-1106-preview\"\n",
    ")"
   ]
  },
  {
   "cell_type": "markdown",
   "metadata": {},
   "source": [
    "### Step 2: Create a Thread"
   ]
  },
  {
   "cell_type": "code",
   "execution_count": 3,
   "metadata": {},
   "outputs": [],
   "source": [
    "thread = client.beta.threads.create()"
   ]
  },
  {
   "cell_type": "code",
   "execution_count": 16,
   "metadata": {},
   "outputs": [
    {
     "name": "stdout",
     "output_type": "stream",
     "text": [
      "{\n",
      "    \"id\": \"thread_ajspmuYuc2UBVPzxDi2IvePU\",\n",
      "    \"created_at\": 1701229362,\n",
      "    \"metadata\": {},\n",
      "    \"object\": \"thread\"\n",
      "}\n"
     ]
    }
   ],
   "source": [
    "print_object(thread)"
   ]
  },
  {
   "cell_type": "markdown",
   "metadata": {},
   "source": [
    "### Step 3: Add a Message to Thread"
   ]
  },
  {
   "cell_type": "code",
   "execution_count": 10,
   "metadata": {},
   "outputs": [],
   "source": [
    "message = client.beta.threads.messages.create(\n",
    "    thread_id=thread.id,\n",
    "    role=\"user\",\n",
    "    content=\"I need to solve the equation `3x + 11 = 14`. Can you help me?\"\n",
    ")"
   ]
  },
  {
   "cell_type": "code",
   "execution_count": 17,
   "metadata": {},
   "outputs": [
    {
     "name": "stdout",
     "output_type": "stream",
     "text": [
      "{\n",
      "    \"id\": \"msg_L4EZ4g5E65uT2odPhvRqnopu\",\n",
      "    \"assistant_id\": null,\n",
      "    \"content\": [\n",
      "        {\n",
      "            \"text\": {\n",
      "                \"annotations\": [],\n",
      "                \"value\": \"I need to solve the equation `3x + 11 = 14`. Can you help me?\"\n",
      "            },\n",
      "            \"type\": \"text\"\n",
      "        }\n",
      "    ],\n",
      "    \"created_at\": 1701229718,\n",
      "    \"file_ids\": [],\n",
      "    \"metadata\": {},\n",
      "    \"object\": \"thread.message\",\n",
      "    \"role\": \"user\",\n",
      "    \"run_id\": null,\n",
      "    \"thread_id\": \"thread_ajspmuYuc2UBVPzxDi2IvePU\"\n",
      "}\n"
     ]
    }
   ],
   "source": [
    "print_object(message)"
   ]
  },
  {
   "cell_type": "markdown",
   "metadata": {},
   "source": [
    "### Step 4: Run the Assistant"
   ]
  },
  {
   "cell_type": "code",
   "execution_count": 18,
   "metadata": {},
   "outputs": [],
   "source": [
    "run = client.beta.threads.runs.create(\n",
    "  thread_id=thread.id,\n",
    "  assistant_id=assistant.id,\n",
    "  instructions=\"Please address the user as Jane Doe. The user has a premium account.\"\n",
    ")"
   ]
  },
  {
   "cell_type": "code",
   "execution_count": 19,
   "metadata": {},
   "outputs": [
    {
     "name": "stdout",
     "output_type": "stream",
     "text": [
      "{\n",
      "    \"id\": \"run_zkOkjt0weQikgGezkyt8zSRH\",\n",
      "    \"assistant_id\": \"asst_DnJv8t7aLjcdRancOVFQKyNL\",\n",
      "    \"cancelled_at\": null,\n",
      "    \"completed_at\": null,\n",
      "    \"created_at\": 1701230867,\n",
      "    \"expires_at\": 1701231467,\n",
      "    \"failed_at\": null,\n",
      "    \"file_ids\": [],\n",
      "    \"instructions\": \"Please address the user as Jane Doe. The user has a premium account.\",\n",
      "    \"last_error\": null,\n",
      "    \"metadata\": {},\n",
      "    \"model\": \"gpt-4-1106-preview\",\n",
      "    \"object\": \"thread.run\",\n",
      "    \"required_action\": null,\n",
      "    \"started_at\": null,\n",
      "    \"status\": \"queued\",\n",
      "    \"thread_id\": \"thread_ajspmuYuc2UBVPzxDi2IvePU\",\n",
      "    \"tools\": [\n",
      "        {\n",
      "            \"type\": \"code_interpreter\"\n",
      "        }\n",
      "    ]\n",
      "}\n"
     ]
    }
   ],
   "source": [
    "print_object(run)"
   ]
  },
  {
   "cell_type": "markdown",
   "metadata": {},
   "source": [
    "### Step 5: Check the run status"
   ]
  },
  {
   "cell_type": "code",
   "execution_count": 20,
   "metadata": {},
   "outputs": [],
   "source": [
    "run = client.beta.threads.runs.retrieve(\n",
    "  thread_id=thread.id,\n",
    "  run_id=run.id\n",
    ")"
   ]
  },
  {
   "cell_type": "markdown",
   "metadata": {},
   "source": [
    "### Step 6: Check the Assistant's response"
   ]
  },
  {
   "cell_type": "code",
   "execution_count": 21,
   "metadata": {},
   "outputs": [],
   "source": [
    "messages = client.beta.threads.messages.list(\n",
    "  thread_id=thread.id\n",
    ")"
   ]
  },
  {
   "cell_type": "code",
   "execution_count": 23,
   "metadata": {},
   "outputs": [
    {
     "name": "stdout",
     "output_type": "stream",
     "text": [
      "{\n",
      "    \"data\": [\n",
      "        {\n",
      "            \"id\": \"msg_dUz3uSojnWINGYjz9sAjXmLS\",\n",
      "            \"assistant_id\": \"asst_DnJv8t7aLjcdRancOVFQKyNL\",\n",
      "            \"content\": [\n",
      "                {\n",
      "                    \"text\": {\n",
      "                        \"annotations\": [],\n",
      "                        \"value\": \"The solution to the equation `3x + 11 = 14` is `x = 1`, which matches our manual calculation. If you have any more equations or problems you need assistance with, feel free to ask!\"\n",
      "                    },\n",
      "                    \"type\": \"text\"\n",
      "                }\n",
      "            ],\n",
      "            \"created_at\": 1701230891,\n",
      "            \"file_ids\": [],\n",
      "            \"metadata\": {},\n",
      "            \"object\": \"thread.message\",\n",
      "            \"role\": \"assistant\",\n",
      "            \"run_id\": \"run_zkOkjt0weQikgGezkyt8zSRH\",\n",
      "            \"thread_id\": \"thread_ajspmuYuc2UBVPzxDi2IvePU\"\n",
      "        },\n",
      "        {\n",
      "            \"id\": \"msg_nljkhZr5n895QQxWoZOxp7SB\",\n",
      "            \"assistant_id\": \"asst_DnJv8t7aLjcdRancOVFQKyNL\",\n",
      "            \"content\": [\n",
      "                {\n",
      "                    \"text\": {\n",
      "                        \"annotations\": [],\n",
      "                        \"value\": \"Certainly! To solve the equation `3x + 11 = 14`, you would perform the following steps:\\n\\n1. Subtract 11 from both sides of the equation to isolate the term with the variable (x) on one side:\\n    `3x + 11 - 11 = 14 - 11`\\n    which simplifies to:\\n    `3x = 3`\\n    \\n2. Divide both sides of the equation by 3 to solve for x:\\n    `3x / 3 = 3 / 3`\\n    which simplifies to:\\n    `x = 1`\\n\\nSo the solution to the equation `3x + 11 = 14` is `x = 1`. If you'd like, I can demonstrate that with a bit of Python code.\"\n",
      "                    },\n",
      "                    \"type\": \"text\"\n",
      "                }\n",
      "            ],\n",
      "            \"created_at\": 1701230868,\n",
      "            \"file_ids\": [],\n",
      "            \"metadata\": {},\n",
      "            \"object\": \"thread.message\",\n",
      "            \"role\": \"assistant\",\n",
      "            \"run_id\": \"run_zkOkjt0weQikgGezkyt8zSRH\",\n",
      "            \"thread_id\": \"thread_ajspmuYuc2UBVPzxDi2IvePU\"\n",
      "        },\n",
      "        {\n",
      "            \"id\": \"msg_L4EZ4g5E65uT2odPhvRqnopu\",\n",
      "            \"assistant_id\": null,\n",
      "            \"content\": [\n",
      "                {\n",
      "                    \"text\": {\n",
      "                        \"annotations\": [],\n",
      "                        \"value\": \"I need to solve the equation `3x + 11 = 14`. Can you help me?\"\n",
      "                    },\n",
      "                    \"type\": \"text\"\n",
      "                }\n",
      "            ],\n",
      "            \"created_at\": 1701229718,\n",
      "            \"file_ids\": [],\n",
      "            \"metadata\": {},\n",
      "            \"object\": \"thread.message\",\n",
      "            \"role\": \"user\",\n",
      "            \"run_id\": null,\n",
      "            \"thread_id\": \"thread_ajspmuYuc2UBVPzxDi2IvePU\"\n",
      "        }\n",
      "    ]\n",
      "}\n"
     ]
    }
   ],
   "source": [
    "print_object(messages)"
   ]
  },
  {
   "cell_type": "code",
   "execution_count": 24,
   "metadata": {},
   "outputs": [
    {
     "name": "stdout",
     "output_type": "stream",
     "text": [
      "assistant said [MessageContentText(text=Text(annotations=[], value='The solution to the equation `3x + 11 = 14` is `x = 1`, which matches our manual calculation. If you have any more equations or problems you need assistance with, feel free to ask!'), type='text')]\n",
      "assistant said [MessageContentText(text=Text(annotations=[], value=\"Certainly! To solve the equation `3x + 11 = 14`, you would perform the following steps:\\n\\n1. Subtract 11 from both sides of the equation to isolate the term with the variable (x) on one side:\\n    `3x + 11 - 11 = 14 - 11`\\n    which simplifies to:\\n    `3x = 3`\\n    \\n2. Divide both sides of the equation by 3 to solve for x:\\n    `3x / 3 = 3 / 3`\\n    which simplifies to:\\n    `x = 1`\\n\\nSo the solution to the equation `3x + 11 = 14` is `x = 1`. If you'd like, I can demonstrate that with a bit of Python code.\"), type='text')]\n",
      "user said [MessageContentText(text=Text(annotations=[], value='I need to solve the equation `3x + 11 = 14`. Can you help me?'), type='text')]\n"
     ]
    }
   ],
   "source": [
    "for message in messages:\n",
    "    role = message.role\n",
    "    value = message.content\n",
    "    print(f\"{role} said {value}\")"
   ]
  },
  {
   "cell_type": "code",
   "execution_count": null,
   "metadata": {},
   "outputs": [],
   "source": []
  }
 ],
 "metadata": {
  "kernelspec": {
   "display_name": "openai_env",
   "language": "python",
   "name": "python3"
  },
  "language_info": {
   "codemirror_mode": {
    "name": "ipython",
    "version": 3
   },
   "file_extension": ".py",
   "mimetype": "text/x-python",
   "name": "python",
   "nbconvert_exporter": "python",
   "pygments_lexer": "ipython3",
   "version": "3.9.18"
  }
 },
 "nbformat": 4,
 "nbformat_minor": 2
}
